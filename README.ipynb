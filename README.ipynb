{
 "cells": [
  {
   "cell_type": "markdown",
   "metadata": {},
   "source": [
    "# Como configurar/instalar/usar o `cheese` no `Linux Ubuntu`\n",
    "\n",
    "## Resumo\n",
    "\n",
    "Neste documento estão contidos os principais comandos e configurações para configurar/instalar/usar o `cheese` no `Linux Ubuntu`.\n",
    "\n",
    "## _Abstract_\n",
    "\n",
    "_This document contains the main commands and settings for configuring/installing/using the `cheese` on `Linux Ubuntu`._\n"
   ]
  },
  {
   "cell_type": "markdown",
   "metadata": {},
   "source": [
    "## Descrição [2]\n",
    "\n",
    "### `cheese`\n",
    "\n",
    "O `cheese` é uma aplicação simples e leve para captura de fotos e vídeos por meio da webcam em sistemas `Linux`. Com uma interface intuitiva, permite aos usuários tirar fotos ou gravar vídeos com facilidade, oferecendo recursos básicos de edição, como aplicação de efeitos e ajustes de brilho e contraste. É uma opção popular para quem precisa de uma solução rápida e fácil para usar a webcam em sistemas `Linux`.\n"
   ]
  },
  {
   "cell_type": "markdown",
   "metadata": {},
   "source": [
    "## 1. Como configurar/instalar/usar o `cheese` no `Linux Ubuntu` [1][3]\n",
    "\n",
    "Para configurar/instalar/usar o `cheese` no `Linux Ubuntu`, você pode seguir estes passos:\n",
    "\n",
    "1. Abra o `Terminal Emulator`. Você pode fazer isso pressionando: `Ctrl + Alt + T`"
   ]
  },
  {
   "cell_type": "markdown",
   "metadata": {},
   "source": [
    "2. Certifique-se de que seu sistema esteja limpo e atualizado.\n",
    "\n",
    "    2.1 Limpar o `cache` do gerenciador de pacotes `apt`. Especificamente, ele remove todos os arquivos de pacotes (`.deb`) baixados pelo `apt` e armazenados em `/var/cache/apt/archives/`. Digite o seguinte comando: `sudo apt clean` \n",
    "    \n",
    "    2.2 Remover pacotes `.deb` antigos ou duplicados do cache local. É útil para liberar espaço, pois remove apenas os pacotes que não podem mais ser baixados (ou seja, versões antigas de pacotes que foram atualizados). Digite o seguinte comando: `sudo apt autoclean`\n",
    "\n",
    "    2.3 Remover pacotes que foram automaticamente instalados para satisfazer as dependências de outros pacotes e que não são mais necessários. Digite o seguinte comando: `sudo apt autoremove -y`\n",
    "\n",
    "    2.4 Buscar as atualizações disponíveis para os pacotes que estão instalados em seu sistema. Digite o seguinte comando e pressione `Enter`: `sudo apt update -y`\n",
    "\n",
    "    2.5 Para ver a lista de pacotes a serem atualizados, digite o seguinte comando e pressione `Enter`:  `sudo apt list --upgradable`\n",
    "\n",
    "    2.6 Realmente atualizar os pacotes instalados para as suas versões mais recentes, com base na última vez que você executou `sudo apt update -y`. Digite o seguinte comando e pressione `Enter`: `sudo apt full-upgrade -y`\n",
    "\n",
    "    2.7 Remover pacotes que foram automaticamente instalados para satisfazer as dependências de outros pacotes e que não são mais necessários. Digite o seguinte comando: `sudo apt autoremove -y`\n",
    "\n",
    "    2.8 Remover pacotes `.deb` antigos ou duplicados do cache local. É útil para liberar espaço, pois remove apenas os pacotes que não podem mais ser baixados (ou seja, versões antigas de pacotes que foram atualizados). Digite o seguinte comando: `sudo apt autoclean`"
   ]
  },
  {
   "cell_type": "markdown",
   "metadata": {},
   "source": [
    "Para instalar o programa cheese, que é um aplicativo de webcam, no Linux Ubuntu utilizando o Terminal Emulator, você pode seguir os passos abaixo:\n",
    "\n",
    "3. **Instale o Cheese**: Após atualizar a lista de pacotes, você pode instalar o Cheese utilizando o seguinte comando: `sudo apt install cheese -y`\n",
    "\n",
    "4. **Execute o Cheese**: Após a instalação, você pode iniciar o Cheese diretamente do Terminal digitando: `cheese`\n",
    "\n",
    "    Você também pode encontrá-lo no menu de aplicações e iniciá-lo por lá."
   ]
  },
  {
   "cell_type": "markdown",
   "metadata": {
    "vscode": {
     "languageId": "plaintext"
    }
   },
   "source": [
    "### 2. Código completo para configurar/instalar/usar\n",
    "\n",
    "Para configurar/instalar/usar o `cheese` no `Linux Ubuntu` sem precisar digitar linha por linha, você pode seguir estas etapas:\n",
    "\n",
    "1. Abra o terminal. Você pode fazer isso pressionando: `Ctrl + Alt + T`\n",
    "\n",
    "2. Digite o seguinte comando e pressione `Enter`:\n",
    "\n",
    "    ```\n",
    "    sudo apt clean\n",
    "    sudo apt autoclean -y\n",
    "    sudo apt autoremove -y\n",
    "    sudo apt update -y\n",
    "    sudo apt uptoremove -y\n",
    "    sudo apt autoclean -y\n",
    "    sudo apt install cheese -y\n",
    "    cheese\n",
    "    ```\n"
   ]
  },
  {
   "cell_type": "markdown",
   "metadata": {
    "vscode": {
     "languageId": "plaintext"
    }
   },
   "source": [
    "## 3. Identificar o caminho do dispotivo `webcam`\n",
    "\n",
    "Para ter certeza do caminho do dispositivo de vídeo da sua `webcam` no `Linux`, você pode seguir estes passos no terminal:\n",
    "\n",
    "1. Abra um terminal.\n",
    "\n",
    "2. **Digite o comando a seguir e pressione `Enter`: `ls /dev/video*`\n",
    "\n",
    "    Este comando vai listar todos os dispositivos de vídeo reconhecidos pelo sistema, geralmente as webcams são listadas como `/dev/video0`, `/dev/video1` etc.\n",
    "\n",
    "3. **Instalar o `v4l2-utils`**: Faça isso com o comando: `sudo apt-get install v4l-utils`\n",
    "    \n",
    "    Se estiver usando uma distribuição baseada em `Debian` ou `Ubuntu`.\n",
    "\n",
    "4. Se você tiver mais de um dispositivo listado e não tiver certeza de qual é a sua `webcam`, pode testar uma outra opção é usar o comando:  `v4l2-ctl --list-devices`\n",
    "\n",
    "    Este comando que oferece uma listagem mais detalhada dos dispositivos de vídeo e associa cada um aos respectivos caminhos no `/dev`.Você pode precisar instalar a ferramenta `v4l-utils` para usar o `v4l2-ctl`.\n"
   ]
  },
  {
   "cell_type": "markdown",
   "metadata": {
    "vscode": {
     "languageId": "plaintext"
    }
   },
   "source": [
    "## Referências\n",
    "\n",
    "[1] OPENAI. ***Install Cheese on Ubuntu.*** Disponível em: <https://chat.openai.com/c/32c45417-de30-40ee-98cc-da1dd95cbf4c> (texto adaptado). Acessado em: 23/04/2023 17:11.\n",
    "\n",
    "[2] OPENAI. ***Vs code: editor popular.*** Disponível em: <https://chat.openai.com/c/b640a25d-f8e3-4922-8a3b-ed74a2657e42> (texto adaptado). Acessado em: 23/04/2024 17:10.\n"
   ]
  }
 ],
 "metadata": {
  "kernelspec": {
   "display_name": "Python 3",
   "language": "python",
   "name": "python3"
  },
  "language_info": {
   "codemirror_mode": {
    "name": "ipython",
    "version": 3
   },
   "file_extension": ".py",
   "mimetype": "text/x-python",
   "name": "python",
   "nbconvert_exporter": "python",
   "pygments_lexer": "ipython3",
   "version": "3.11.8"
  },
  "orig_nbformat": 4
 },
 "nbformat": 4,
 "nbformat_minor": 2
}
